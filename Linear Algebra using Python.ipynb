{
 "cells": [
  {
   "cell_type": "markdown",
   "id": "df7345a3-f4f7-4c1f-86ca-bf52beda13a0",
   "metadata": {},
   "source": [
    "# Linear Algebra "
   ]
  },
  {
   "cell_type": "code",
   "execution_count": 3,
   "id": "963db6a8-8941-4456-8eb0-1cbcd98bf5b5",
   "metadata": {},
   "outputs": [
    {
     "name": "stdout",
     "output_type": "stream",
     "text": [
      "Solution:  [2. 1.]\n",
      "x value:  1.9999999999999998\n",
      "y value:  1.0000000000000002\n"
     ]
    }
   ],
   "source": [
    "import numpy as np\n",
    "import scipy.linalg as linalg\n",
    "\n",
    "a = np.array([[3, 4] , [2, 5]])  # coefficients\n",
    "b = np.array([10 , 9])  # constants\n",
    "\n",
    "x_val, y_val = linalg.solve(a , b)\n",
    "print(\"Solution: \", linalg.solve(a , b))\n",
    "\n",
    "print(\"x value: \", x_val)\n",
    "print(\"y value: \", y_val)"
   ]
  },
  {
   "cell_type": "code",
   "execution_count": 4,
   "id": "d7b3a12e-8a23-4846-bd64-60af9c8da3d1",
   "metadata": {},
   "outputs": [
    {
     "name": "stdout",
     "output_type": "stream",
     "text": [
      "[[1 2 3]\n",
      " [4 5 6]\n",
      " [8 8 9]]\n"
     ]
    }
   ],
   "source": [
    "array = np.array([[1, 2, 3] , [4, 5, 6], [8, 8, 9]])\n",
    "print(array)"
   ]
  },
  {
   "cell_type": "code",
   "execution_count": 5,
   "id": "2cd343c0-99a1-45b9-be53-d52906e4f292",
   "metadata": {},
   "outputs": [
    {
     "name": "stdout",
     "output_type": "stream",
     "text": [
      "Determinent:  -3.0\n",
      "Inverse: \n",
      " [[ 1.         -2.          1.        ]\n",
      " [-4.          5.         -2.        ]\n",
      " [ 2.66666667 -2.66666667  1.        ]]\n"
     ]
    }
   ],
   "source": [
    "print(\"Determinent: \", linalg.det(array))\n",
    "print(\"Inverse: \\n\", linalg.inv(array))"
   ]
  },
  {
   "cell_type": "markdown",
   "id": "1ea22268-480a-424c-99fa-58b594b29b9b",
   "metadata": {},
   "source": [
    "# Eigen Value and Vector"
   ]
  },
  {
   "cell_type": "code",
   "execution_count": 6,
   "id": "e4580ab8-5494-42e0-9d71-9b2df72435de",
   "metadata": {},
   "outputs": [
    {
     "name": "stdout",
     "output_type": "stream",
     "text": [
      "[[ 1 -2  0]\n",
      " [-2  1  0]\n",
      " [ 0  0  3]]\n"
     ]
    }
   ],
   "source": [
    "array2 = np.array([[1, -2, 0] , [-2, 1, 0], [0, 0, 3]])\n",
    "print(array2)"
   ]
  },
  {
   "cell_type": "code",
   "execution_count": 7,
   "id": "b9b7486f-7cee-4d1f-adcc-1b42cb99eab6",
   "metadata": {},
   "outputs": [
    {
     "name": "stdout",
     "output_type": "stream",
     "text": [
      "Eigen Value: \n",
      " [ 3.+0.j -1.+0.j  3.+0.j]\n",
      "Eigen Vector: \n",
      " [[ 0.70710678  0.70710678  0.        ]\n",
      " [-0.70710678  0.70710678  0.        ]\n",
      " [ 0.          0.          1.        ]]\n"
     ]
    }
   ],
   "source": [
    "# Eigen Value and Vector\n",
    "# vector that undergoes pure scaling without rotation\n",
    "eg_value, eg_vector = linalg.eig(array2)\n",
    "\n",
    "print(\"Eigen Value: \\n\", eg_value)\n",
    "print(\"Eigen Vector: \\n\", eg_vector)"
   ]
  },
  {
   "cell_type": "markdown",
   "id": "7311a57a-8f60-4668-8c74-bb708c49a7cf",
   "metadata": {},
   "source": [
    "# Singular Value Decomposition"
   ]
  },
  {
   "cell_type": "code",
   "execution_count": 8,
   "id": "c450b675-4d5d-4f57-b7a5-988b1987dadf",
   "metadata": {},
   "outputs": [
    {
     "name": "stdout",
     "output_type": "stream",
     "text": [
      "Diagonal Matrix D: \n",
      " [[ 3.  0.  0.]\n",
      " [ 0. -1.  0.]\n",
      " [ 0.  0.  3.]]\n"
     ]
    },
    {
     "name": "stderr",
     "output_type": "stream",
     "text": [
      "C:\\Users\\rajas\\AppData\\Local\\Temp\\ipykernel_14756\\2422393437.py:10: ComplexWarning: Casting complex values to real discards the imaginary part\n",
      "  row[index] = value  # Assign the eigenvalue to the correct position in the row\n"
     ]
    }
   ],
   "source": [
    "P = eg_vector  # Matrix of eigenvectors\n",
    "P_inv = linalg.inv(eg_vector)  # Inverse of the matrix of eigenvectors\n",
    "\n",
    "D = []  # Initialize an empty list to store rows\n",
    "\n",
    "for index, value in enumerate(eg_value):  # Loop through eigenvalues with their indices\n",
    "    row = np.zeros((3))  # Create a row of zeros with 3 elements\n",
    "    row[index] = value  # Assign the eigenvalue to the correct position in the row\n",
    "    D.append(row)  # Append the row to the list D\n",
    "\n",
    "D = np.array(D)  # Convert the list D to a NumPy array\n",
    "print(\"Diagonal Matrix D: \\n\", D) \n"
   ]
  },
  {
   "cell_type": "code",
   "execution_count": 9,
   "id": "70cbcc04-2184-43b6-9de7-516eeacfecaa",
   "metadata": {},
   "outputs": [
    {
     "name": "stdout",
     "output_type": "stream",
     "text": [
      "Return Original Matrix: \n",
      " [[ 1. -2.  0.]\n",
      " [-2.  1.  0.]\n",
      " [ 0.  0.  3.]]\n"
     ]
    }
   ],
   "source": [
    "print(\"Return Original Matrix: \\n\", P @ D @ P_inv)"
   ]
  },
  {
   "cell_type": "markdown",
   "id": "29110df4-401a-477f-8db3-3f9033d5f355",
   "metadata": {},
   "source": [
    "# Exponential and Logarithm Functions"
   ]
  },
  {
   "cell_type": "code",
   "execution_count": 11,
   "id": "dd5e6304-28e1-4cb4-9013-3368d80488a7",
   "metadata": {},
   "outputs": [
    {
     "name": "stdout",
     "output_type": "stream",
     "text": [
      "Matrix Exponential (expm):\n",
      " [[ 51.9689562   74.73656457]\n",
      " [112.10484685 164.07380305]]\n",
      "Matrix Logarithm (logm):\n",
      " [[-0.35043981+2.39111795j  0.92935121-1.09376217j]\n",
      " [ 1.39402681-1.64064326j  1.04358699+0.7504747j ]]\n"
     ]
    }
   ],
   "source": [
    "import numpy as np\n",
    "from scipy.linalg import expm, logm\n",
    "\n",
    "A = np.array([[1, 2], [3, 4]])\n",
    "\n",
    "# Matrix exponential\n",
    "exp_result = expm(A)\n",
    "print(\"Matrix Exponential (expm):\\n\", exp_result)\n",
    "\n",
    "# Matrix logarithm\n",
    "log_result = logm(A)\n",
    "print(\"Matrix Logarithm (logm):\\n\", log_result)\n"
   ]
  },
  {
   "cell_type": "markdown",
   "id": "d43571eb-12cf-43a4-897a-5d7864481930",
   "metadata": {},
   "source": [
    "# Trigonometric Functions"
   ]
  },
  {
   "cell_type": "code",
   "execution_count": 12,
   "id": "705ef2c4-0f26-4401-86a4-ada4277785ac",
   "metadata": {},
   "outputs": [
    {
     "name": "stdout",
     "output_type": "stream",
     "text": [
      "Matrix Sine (sinm):\n",
      " [[-0.46558149 -0.14842446]\n",
      " [-0.22263669 -0.68821818]]\n",
      "Matrix Cosine (cosm):\n",
      " [[ 0.85542317 -0.11087638]\n",
      " [-0.16631457  0.68910859]]\n",
      "Matrix Tangent (tanm):\n",
      " [[-0.60507478 -0.31274165]\n",
      " [-0.46911248 -1.07418726]]\n"
     ]
    }
   ],
   "source": [
    "from scipy.linalg import sinm, cosm, tanm\n",
    "\n",
    "A = np.array([[1, 2], [3, 4]])\n",
    "\n",
    "# Matrix sine\n",
    "sin_result = sinm(A)\n",
    "print(\"Matrix Sine (sinm):\\n\", sin_result)\n",
    "\n",
    "# Matrix cosine\n",
    "cos_result = cosm(A)\n",
    "print(\"Matrix Cosine (cosm):\\n\", cos_result)\n",
    "\n",
    "# Matrix tangent\n",
    "tan_result = tanm(A)\n",
    "print(\"Matrix Tangent (tanm):\\n\", tan_result)\n"
   ]
  },
  {
   "cell_type": "markdown",
   "id": "c5c224d1-c351-495f-bdb4-ae19faf816c9",
   "metadata": {},
   "source": [
    "# Hyperbolic Trigonometric Functions"
   ]
  },
  {
   "cell_type": "code",
   "execution_count": 14,
   "id": "a0c18ba1-d388-4f24-b9de-cefbd40d5521",
   "metadata": {},
   "outputs": [
    {
     "name": "stdout",
     "output_type": "stream",
     "text": [
      "Matrix Hyperbolic Sine (sinhm):\n",
      " [[25.4317178  37.62006779]\n",
      " [56.43010168 81.86181949]]\n",
      "Matrix Hyperbolic Cosine (coshm):\n",
      " [[26.53723839 37.11649678]\n",
      " [55.67474517 82.21198356]]\n",
      "Matrix Hyperbolic Tangent (tanhm):\n",
      " [[-0.03207326  0.47207856]\n",
      " [ 0.70811784  0.67604458]]\n"
     ]
    }
   ],
   "source": [
    "from scipy.linalg import sinhm, coshm, tanhm\n",
    "\n",
    "A = np.array([[1, 2], [3, 4]])\n",
    "\n",
    "# Matrix hyperbolic sine\n",
    "sinh_result = sinhm(A)\n",
    "print(\"Matrix Hyperbolic Sine (sinhm):\\n\", sinh_result)\n",
    "\n",
    "# Matrix hyperbolic cosine\n",
    "cosh_result = coshm(A)\n",
    "print(\"Matrix Hyperbolic Cosine (coshm):\\n\", cosh_result)\n",
    "\n",
    "# Matrix hyperbolic tangent\n",
    "tanh_result = tanhm(A)\n",
    "print(\"Matrix Hyperbolic Tangent (tanhm):\\n\", tanh_result)\n"
   ]
  },
  {
   "cell_type": "markdown",
   "id": "97df367c-9418-435c-9959-db8fa16c767c",
   "metadata": {},
   "source": [
    "# Arbitrary Function"
   ]
  },
  {
   "cell_type": "code",
   "execution_count": 18,
   "id": "ee763796-7b08-4867-baa5-20968df7917f",
   "metadata": {},
   "outputs": [
    {
     "name": "stdout",
     "output_type": "stream",
     "text": [
      "Arbitrary Function (funm):\n",
      " [[ 7. 10.]\n",
      " [15. 22.]]\n"
     ]
    }
   ],
   "source": [
    "from scipy.linalg import funm\n",
    "\n",
    "A = np.array([[1, 2], [3, 4]])\n",
    "\n",
    "# Define an arbitrary function (e.g., square)\n",
    "def arbitrary_function(x):\n",
    "    return x ** 2\n",
    "\n",
    "# Apply the function to the matrix\n",
    "funm_result = funm(A, arbitrary_function)\n",
    "print(\"Arbitrary Function (funm):\\n\", funm_result)\n"
   ]
  },
  {
   "cell_type": "code",
   "execution_count": null,
   "id": "7b59e23e-e1bd-4954-8cb9-a4d65b55fbbf",
   "metadata": {},
   "outputs": [],
   "source": []
  }
 ],
 "metadata": {
  "kernelspec": {
   "display_name": "Python 3 (ipykernel)",
   "language": "python",
   "name": "python3"
  },
  "language_info": {
   "codemirror_mode": {
    "name": "ipython",
    "version": 3
   },
   "file_extension": ".py",
   "mimetype": "text/x-python",
   "name": "python",
   "nbconvert_exporter": "python",
   "pygments_lexer": "ipython3",
   "version": "3.12.3"
  }
 },
 "nbformat": 4,
 "nbformat_minor": 5
}
